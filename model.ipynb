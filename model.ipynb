{
 "cells": [
  {
   "cell_type": "code",
   "execution_count": null,
   "id": "9dba64d4-055f-463a-a6e1-c8e285bf6aff",
   "metadata": {},
   "outputs": [
    {
     "name": "stderr",
     "output_type": "stream",
     "text": [
      "C:\\Users\\VD GAUTAM\\AppData\\Local\\Temp\\ipykernel_11676\\974342058.py:17: FutureWarning: A value is trying to be set on a copy of a DataFrame or Series through chained assignment using an inplace method.\n",
      "The behavior will change in pandas 3.0. This inplace method will never work because the intermediate object on which we are setting values always behaves as a copy.\n",
      "\n",
      "For example, when doing 'df[col].method(value, inplace=True)', try using 'df.method({col: value}, inplace=True)' or df[col] = df[col].method(value) instead, to perform the operation inplace on the original object.\n",
      "\n",
      "\n",
      "  df['Wind'].fillna(method='ffill', inplace=True)\n",
      "C:\\Users\\VD GAUTAM\\AppData\\Local\\Temp\\ipykernel_11676\\974342058.py:17: FutureWarning: Series.fillna with 'method' is deprecated and will raise in a future version. Use obj.ffill() or obj.bfill() instead.\n",
      "  df['Wind'].fillna(method='ffill', inplace=True)\n"
     ]
    },
    {
     "name": "stdout",
     "output_type": "stream",
     "text": [
      "Mean Absolute Error: 4.216413698585145\n",
      "Predictions saved to predictions.json\n"
     ]
    },
    {
     "data": {
      "text/plain": [
       "['solar_model.pkl']"
      ]
     },
     "execution_count": 6,
     "metadata": {},
     "output_type": "execute_result"
    }
   ],
   "source": [
    "import pandas as pd\n",
    "import json\n",
    "import joblib\n",
    "from datetime import datetime\n",
    "from sklearn.model_selection import train_test_split\n",
    "from sklearn.ensemble import RandomForestRegressor\n",
    "from sklearn.metrics import mean_absolute_error\n",
    "\n",
    "# Load the dataset\n",
    "file_path = r\"C:\\Users\\VD GAUTAM\\project\\ShaktiGrid\\rye_generation_and_load.csv\" \n",
    "df = pd.read_csv(file_path)\n",
    "\n",
    "# Convert index column to datetime\n",
    "df['index'] = pd.to_datetime(df['index'], errors='coerce')\n",
    "\n",
    "# Handle missing values\n",
    "df['Wind'].fillna(method='ffill', inplace=True)\n",
    "\n",
    "# Extract useful time-based features\n",
    "df['hour'] = df['index'].dt.hour\n",
    "df['day'] = df['index'].dt.day\n",
    "df['month'] = df['index'].dt.month\n",
    "df['year'] = df['index'].dt.year\n",
    "\n",
    "# Drop the original index column\n",
    "df.drop(columns=['index'], inplace=True)\n",
    "\n",
    "# Define features (X) and target (y)\n",
    "X = df[['hour', 'day', 'month', 'year', 'Consumption', 'Wind']]\n",
    "y = df['Solar']\n",
    "\n",
    "# Split into training and test sets\n",
    "X_train, X_test, y_train, y_test = train_test_split(X, y, test_size=0.2, random_state=42)\n",
    "\n",
    "# Train a RandomForest model\n",
    "model = RandomForestRegressor(n_estimators=100, random_state=42)\n",
    "model.fit(X_train, y_train)\n",
    "\n",
    "# Predict on test data\n",
    "y_pred = model.predict(X_test)\n",
    "\n",
    "# Evaluate the model\n",
    "mae = mean_absolute_error(y_test, y_pred)\n",
    "print(f\"Mean Absolute Error: {mae}\")\n",
    "\n",
    "# Prepare test predictions for frontend integration\n",
    "test_results = X_test.copy()\n",
    "test_results['Predicted_Solar'] = y_pred\n",
    "\n",
    "# Convert to JSON format\n",
    "test_results_json = test_results.to_json(orient='records')\n",
    "\n",
    "# Save to a file (optional)\n",
    "with open(\"predictions.json\", \"w\") as json_file:\n",
    "    json.dump(test_results_json, json_file)\n",
    "\n",
    "print(\"Predictions saved to predictions.json\")\n",
    "\n",
    "# Saving model to a file\n",
    "joblib.dump(model, \"solar_model.pkl\")\n",
    "\n"
   ]
  },
  {
   "cell_type": "code",
   "execution_count": null,
   "id": "f38ef1d6-a277-491f-b009-19fc8023585d",
   "metadata": {},
   "outputs": [],
   "source": []
  }
 ],
 "metadata": {
  "kernelspec": {
   "display_name": "Python 3 (ipykernel)",
   "language": "python",
   "name": "python3"
  },
  "language_info": {
   "codemirror_mode": {
    "name": "ipython",
    "version": 3
   },
   "file_extension": ".py",
   "mimetype": "text/x-python",
   "name": "python",
   "nbconvert_exporter": "python",
   "pygments_lexer": "ipython3",
   "version": "3.11.3"
  }
 },
 "nbformat": 4,
 "nbformat_minor": 5
}
